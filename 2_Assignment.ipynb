{
 "cells": [
  {
   "cell_type": "markdown",
   "id": "c38060c6-3d10-4315-8634-a67f5acbc569",
   "metadata": {},
   "source": [
    "Q1. Explain Class and Object with respect to Object-Oriented Programming. Give a suitable example."
   ]
  },
  {
   "cell_type": "markdown",
   "id": "6d0aeb5a-393d-45be-ba8b-d46d7cd1a5b0",
   "metadata": {},
   "source": [
    "In object-oriented programming (OOP), a class is a blueprint or template for creating objects. It defines a set of attributes (data) and behaviors (methods) that the objects instantiated from the class will possess. In simpler terms, a class is a user-defined data type that encapsulates related data and functions."
   ]
  },
  {
   "cell_type": "markdown",
   "id": "64ce5015-2c0f-43af-96c9-fc3e1827ed9d",
   "metadata": {},
   "source": [
    "An object, on the other hand, is an instance of a class. It represents a specific entity or concept based on the class definition. Each object has its own unique identity and state, which means it can hold different values for its attributes compared to other objects of the same class. Objects also have the ability to perform actions or operations defined by the methods of their class."
   ]
  },
  {
   "cell_type": "markdown",
   "id": "bf5a52cf-3a9a-42ec-958d-c7384316e51f",
   "metadata": {},
   "source": [
    "Ex:-"
   ]
  },
  {
   "cell_type": "code",
   "execution_count": 1,
   "id": "cec51202-3aa9-400b-a8d6-784535964828",
   "metadata": {},
   "outputs": [],
   "source": [
    "class pwskills1 :\n",
    "    def __init__(self , phone_number , email_id , student_id):\n",
    "        self.phone_number = phone_number\n",
    "        self.email_id = email_id\n",
    "        self.student_id =student_id\n",
    "     \n",
    "    def return_student_details(self) :\n",
    "        return self.student_id , self.phone_number ,self.email_id\n",
    "        "
   ]
  },
  {
   "cell_type": "markdown",
   "id": "54036f99-b306-4d23-bfdb-218d87f57954",
   "metadata": {},
   "source": [
    "Here class is pwskills1  and it has  set of attributes like phone_number , email_id , student_id"
   ]
  },
  {
   "cell_type": "code",
   "execution_count": 2,
   "id": "ad20b763-c0ac-4f30-9fca-24f2446ff96c",
   "metadata": {},
   "outputs": [],
   "source": [
    "rish = pwskills1(998912334 , \"rish@gmail.com\" , \"19BCT0101\")"
   ]
  },
  {
   "cell_type": "code",
   "execution_count": 3,
   "id": "f35d32e7-7e5a-4775-a9f1-677f186bc5b7",
   "metadata": {},
   "outputs": [],
   "source": [
    "panna = pwskills1(933456726 , \"panna@gmail.com\",\"19BCT000\")"
   ]
  },
  {
   "cell_type": "markdown",
   "id": "b7ed9122-3ae8-45b7-a9ff-160201db234a",
   "metadata": {},
   "source": [
    "Here above rish and panna  are objects instantiated from the \"pwskills1\" class. They have their own distinct attribute values and can perform the actions defined by the class methods."
   ]
  },
  {
   "cell_type": "code",
   "execution_count": null,
   "id": "a8b1cd77-7ce3-4a29-a72f-95aa762869b1",
   "metadata": {},
   "outputs": [],
   "source": []
  },
  {
   "cell_type": "code",
   "execution_count": null,
   "id": "9ec84cb2-3ee7-4e27-8e39-9b0e0ec4a60c",
   "metadata": {},
   "outputs": [],
   "source": []
  },
  {
   "cell_type": "markdown",
   "id": "8501db92-e6b4-47ab-ac5b-23323291363c",
   "metadata": {},
   "source": [
    "Q2. Name the four pillars of OOPs."
   ]
  },
  {
   "cell_type": "markdown",
   "id": "564a42fb-08f1-4e91-b91d-7997c2c80a77",
   "metadata": {},
   "source": [
    "The four pillars of Object-Oriented Programming (OOP) are:\n",
    "\n",
    "1. Encapsulation: Encapsulation refers to the bundling of data and methods into a single unit called an object. It allows the object to control access to its internal state and behavior, providing data protection and abstraction. Encapsulation helps maintain the integrity of the data and prevents unauthorized access or modifications.\n",
    "\n",
    "2. Inheritance: Inheritance enables the creation of new classes based on existing classes, allowing the new classes to inherit the properties and methods of the existing classes. This promotes code reuse, extensibility, and the organization of classes into a hierarchy. Inheritance establishes an \"is-a\" relationship between classes, where the derived classes inherit characteristics from their base or parent classes.\n",
    "\n",
    "3. Polymorphism: Polymorphism allows objects of different classes to be treated as objects of a common superclass. It allows methods to be implemented in multiple ways, depending on the specific class of the object. Polymorphism enables code to be written in a generic manner, capable of working with objects of different types. This concept enhances flexibility and enables dynamic behavior based on the actual type of the object.\n",
    "\n",
    "4. Abstraction: Abstraction focuses on providing a simplified representation of complex systems by emphasizing relevant information and hiding unnecessary details. It allows the creation of abstract classes or interfaces that define common attributes and behaviors without specifying the implementation. Abstraction enables modular and high-level design, enabling programmers to work at a conceptual level, separate from the nitty-gritty implementation details."
   ]
  },
  {
   "cell_type": "code",
   "execution_count": null,
   "id": "3c23d66a-ae03-41c9-b984-ff974f7c8dd4",
   "metadata": {},
   "outputs": [],
   "source": []
  },
  {
   "cell_type": "code",
   "execution_count": null,
   "id": "a9551d37-3e43-42e8-9284-0b33de77bdd7",
   "metadata": {},
   "outputs": [],
   "source": []
  },
  {
   "cell_type": "markdown",
   "id": "313a3efa-381c-41ef-b362-e9d47419438c",
   "metadata": {},
   "source": [
    "Q3. Explain why the __init__() function is used. Give a suitable example."
   ]
  },
  {
   "cell_type": "markdown",
   "id": "03091bbd-1a3f-4878-be6c-7d08f284779f",
   "metadata": {},
   "source": [
    "The __init__() function is a special method in Python classes that is used for initializing the attributes or state of an object when it is created. It is called a constructor because it constructs or creates an instance of a class.\n",
    "\n",
    "The primary purpose of the __init__() function is to set up the initial state of an object by assigning values to its attributes. It allows you to specify the default values for the object's attributes, perform any necessary setup operations, and prepare the object for immediate use."
   ]
  },
  {
   "cell_type": "code",
   "execution_count": 4,
   "id": "759ae87e-9de0-4ec5-8a19-293c1e1a472a",
   "metadata": {},
   "outputs": [],
   "source": [
    "## Example:\n",
    "class pwskills2 :\n",
    "    def __init__(rish , phone_number , email_id , student_id):\n",
    "        rish.phone_number1 = phone_number\n",
    "        rish.email_id1 = email_id\n",
    "        rish.student_id1 =student_id\n",
    "     \n",
    "    def return_student_details(rish) :\n",
    "        return rish.student_id1 , rish.phone_number1 ,rish.email_id1"
   ]
  },
  {
   "cell_type": "code",
   "execution_count": 5,
   "id": "09700192-f1f5-418c-86f7-17197068fac4",
   "metadata": {},
   "outputs": [],
   "source": [
    "rishabh = pwskills2(9908887994 , \"rishabh@gmail.com\" ,\"19BCT0099\")"
   ]
  },
  {
   "cell_type": "code",
   "execution_count": null,
   "id": "387f9fcf-3121-4606-bb04-16e54324013a",
   "metadata": {},
   "outputs": [],
   "source": []
  },
  {
   "cell_type": "code",
   "execution_count": null,
   "id": "fe0230b9-0ff5-47e6-a7d1-149c25608adc",
   "metadata": {},
   "outputs": [],
   "source": []
  },
  {
   "cell_type": "markdown",
   "id": "018cd828-68e4-4c78-b4a1-c4fe57658b9e",
   "metadata": {},
   "source": [
    "Q4. Why self is used in OOPs?"
   ]
  },
  {
   "cell_type": "markdown",
   "id": "c5ac1ffe-da4f-404e-9cb3-5a1a0bf9ce3c",
   "metadata": {},
   "source": [
    "In object-oriented programming (OOP), the \"self\" keyword is used to refer to the instance of a class within the class itself. It is a convention in many object-oriented languages, such as Python, to use \"self\" as the first parameter of instance methods.\n",
    "\n",
    "The \"self\" parameter allows you to access the attributes and methods of the current instance of the class. By using \"self,\" you can differentiate between the instance variables (attributes) of the current object and variables with the same name that may exist in the method's scope."
   ]
  },
  {
   "cell_type": "code",
   "execution_count": null,
   "id": "bc6c0f3e-582e-4450-ba9f-6a9767100625",
   "metadata": {},
   "outputs": [],
   "source": []
  },
  {
   "cell_type": "code",
   "execution_count": null,
   "id": "39f84536-0af1-4d6c-83f8-02befa66f458",
   "metadata": {},
   "outputs": [],
   "source": []
  },
  {
   "cell_type": "markdown",
   "id": "ce23d388-44f5-46fa-b081-9a6eb7e87b31",
   "metadata": {},
   "source": [
    "Q5. What is inheritance? Give an example for each type of inheritance."
   ]
  },
  {
   "cell_type": "markdown",
   "id": "0cf0eacd-89a9-4d67-a02b-5d20440db9f3",
   "metadata": {},
   "source": [
    "Inheritance is a fundamental concept in object-oriented programming (OOP) that allows classes to inherit properties and behaviors from other classes. It promotes code reuse and supports the concept of hierarchy among classes. Inheritance creates a parent-child relationship between classes, where the child class (also known as the derived class) inherits attributes and methods from the parent class (also known as the base class or superclass).\n",
    "\n",
    "There are several types of inheritance:\n",
    "\n",
    "Single Inheritance: In single inheritance, a class inherits properties and behaviors from a single parent class. The child class extends the parent class, inheriting all of its non-private members. "
   ]
  },
  {
   "cell_type": "code",
   "execution_count": 6,
   "id": "88cf8ab8-af10-4514-be02-4c20a0605221",
   "metadata": {},
   "outputs": [
    {
     "name": "stdout",
     "output_type": "stream",
     "text": [
      "The animal is eating.\n",
      "The dog is barking.\n"
     ]
    }
   ],
   "source": [
    "## Example for single Inheritance\n",
    "class Animal:\n",
    "    def eat(self):\n",
    "        print(\"The animal is eating.\")\n",
    "\n",
    "class Dog(Animal):\n",
    "    def bark(self):\n",
    "        print(\"The dog is barking.\")\n",
    "\n",
    "dog = Dog()\n",
    "dog.eat()   # Inherited from the Animal class\n",
    "dog.bark()  # Defined in the Dog class\n"
   ]
  },
  {
   "cell_type": "markdown",
   "id": "ce29f696-1f75-4c31-b8f4-46f22281093e",
   "metadata": {},
   "source": [
    "Multiple Inheritance: Multiple inheritance allows a class to inherit properties and behaviors from multiple parent classes. The child class can access members from all the inherited classes. "
   ]
  },
  {
   "cell_type": "code",
   "execution_count": 8,
   "id": "a9d56beb-09c1-4e02-aa64-d094a400530f",
   "metadata": {},
   "outputs": [
    {
     "name": "stdout",
     "output_type": "stream",
     "text": [
      "The flyer is flying.\n",
      "The swimmer is swimming.\n",
      "The duck is quacking.\n"
     ]
    }
   ],
   "source": [
    "## Example for multiple Inheritance\n",
    "\n",
    "class Flyer:\n",
    "    def fly(self):\n",
    "        print(\"The flyer is flying.\")\n",
    "\n",
    "class Swimmer:\n",
    "    def swim(self):\n",
    "        print(\"The swimmer is swimming.\")\n",
    "\n",
    "class Duck(Flyer, Swimmer):\n",
    "    def quack(self):\n",
    "        print(\"The duck is quacking.\")\n",
    "\n",
    "duck = Duck()\n",
    "duck.fly()   # Inherited from the Flyer class\n",
    "duck.swim()  # Inherited from the Swimmer class\n",
    "duck.quack() # Defined in the Duck class\n"
   ]
  },
  {
   "cell_type": "markdown",
   "id": "73a6758a-901d-454e-a5ba-222534907875",
   "metadata": {},
   "source": [
    "Multilevel Inheritance: Multilevel inheritance involves a chain of inheritance, where a derived class inherits from a parent class, and that derived class can further serve as the parent class for another derived class. "
   ]
  },
  {
   "cell_type": "code",
   "execution_count": 9,
   "id": "020465bd-21ae-454e-9154-affd0e2f6ded",
   "metadata": {},
   "outputs": [
    {
     "name": "stdout",
     "output_type": "stream",
     "text": [
      "The vehicle is starting.\n",
      "The car is driving.\n",
      "The sedan uses petrol as fuel.\n"
     ]
    }
   ],
   "source": [
    "## Example for Multilevel Inheritance\n",
    "\n",
    "class Vehicle:\n",
    "    def start(self):\n",
    "        print(\"The vehicle is starting.\")\n",
    "\n",
    "class Car(Vehicle):\n",
    "    def drive(self):\n",
    "        print(\"The car is driving.\")\n",
    "\n",
    "class Sedan(Car):\n",
    "    def fuel_type(self):\n",
    "        print(\"The sedan uses petrol as fuel.\")\n",
    "\n",
    "sedan = Sedan()\n",
    "sedan.start()    # Inherited from the Vehicle class\n",
    "sedan.drive()    # Inherited from the Car class\n",
    "sedan.fuel_type()# Defined in the Sedan class\n"
   ]
  },
  {
   "cell_type": "code",
   "execution_count": null,
   "id": "0ccca072-cb1c-4467-8b2e-4ef02b144080",
   "metadata": {},
   "outputs": [],
   "source": []
  },
  {
   "cell_type": "markdown",
   "id": "357c16a9-8ac4-447e-8a06-804c8546524a",
   "metadata": {},
   "source": [
    "Hierarchical Inheritance: Hierarchical inheritance occurs when multiple derived classes inherit from the same base class. Each child class inherits the properties and behaviors of the parent class independently. "
   ]
  },
  {
   "cell_type": "code",
   "execution_count": 11,
   "id": "244f3a2f-0c75-4254-9afb-f7f3d7b350ce",
   "metadata": {},
   "outputs": [
    {
     "name": "stdout",
     "output_type": "stream",
     "text": [
      "Drawing a shape.\n",
      "Calculating the area of a circle.\n",
      "Drawing a shape.\n",
      "Calculating the area of a rectangle.\n"
     ]
    }
   ],
   "source": [
    "## Example :\n",
    "\n",
    "class Shape:\n",
    "    def draw(self):\n",
    "        print(\"Drawing a shape.\")\n",
    "\n",
    "class Circle(Shape):\n",
    "    def calculate_area(self):\n",
    "        print(\"Calculating the area of a circle.\")\n",
    "\n",
    "class Rectangle(Shape):\n",
    "    def calculate_area(self):\n",
    "        print(\"Calculating the area of a rectangle.\")\n",
    "\n",
    "circle = Circle()\n",
    "circle.draw()            # Inherited from the Shape class\n",
    "circle.calculate_area()  # Defined in the Circle class\n",
    "\n",
    "rectangle = Rectangle()\n",
    "rectangle.draw()         # Inherited from the Shape class\n",
    "rectangle.calculate_area() # Defined in the Rectangle class\n"
   ]
  },
  {
   "cell_type": "code",
   "execution_count": null,
   "id": "5bfe4f5d-9329-417a-9c84-7351f877959d",
   "metadata": {},
   "outputs": [],
   "source": []
  }
 ],
 "metadata": {
  "kernelspec": {
   "display_name": "Python 3 (ipykernel)",
   "language": "python",
   "name": "python3"
  },
  "language_info": {
   "codemirror_mode": {
    "name": "ipython",
    "version": 3
   },
   "file_extension": ".py",
   "mimetype": "text/x-python",
   "name": "python",
   "nbconvert_exporter": "python",
   "pygments_lexer": "ipython3",
   "version": "3.10.8"
  }
 },
 "nbformat": 4,
 "nbformat_minor": 5
}
